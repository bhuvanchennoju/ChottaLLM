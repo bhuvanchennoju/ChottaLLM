{
 "cells": [
  {
   "cell_type": "markdown",
   "metadata": {},
   "source": [
    "### data "
   ]
  },
  {
   "cell_type": "code",
   "execution_count": 8,
   "metadata": {},
   "outputs": [
    {
     "name": "stdout",
     "output_type": "stream",
     "text": [
      "number of tokens in train: 0.2428602M\n",
      "number of tokens in valid: 0.0251049M\n",
      "number of tokens in test: 0.0287645M\n"
     ]
    }
   ],
   "source": [
    "import numpy as np\n",
    "from tiktoken import get_encoding\n",
    "\n",
    "def load_data(npysplit):\n",
    "    data = np.load(npysplit)\n",
    "    return data\n",
    "\n",
    "data_dir = \"/n/projects/kc2819/projects/ChotaLLM/data/wikitext2\"\n",
    "trn_path, val_path, tst_path = data_dir + \"/wikitext-2-raw-v1_train_000000.npy\", data_dir + \"/wikitext-2-raw-v1_validation_000000.npy\", data_dir + \"/wikitext-2-raw-v1_test_000000.npy\"\n",
    "train_data = load_data(trn_path)\n",
    "valid_data = load_data(val_path)\n",
    "test_data = load_data(tst_path)\n",
    "\n",
    "\n",
    "print(f'number of tokens in train: {len(train_data)/10e6}M')\n",
    "print(f'number of tokens in valid: {len(valid_data)/10e6}M')\n",
    "print(f'number of tokens in test: {len(test_data)/10e6}M')"
   ]
  },
  {
   "cell_type": "code",
   "execution_count": 2,
   "metadata": {},
   "outputs": [
    {
     "data": {
      "text/plain": [
       "(array([50256, 50256,   796,   569, 18354,  7496, 17740,  6711,   796,\n",
       "          220,   198, 50256, 50256,  2311,    73, 13090,   645,   569,\n",
       "        18354,  7496,   513,  1058,   791, 47398, 17740,   357,  4960,\n",
       "         1058, 10545,   230,    99,   161,   254,   112,  5641, 44444,\n",
       "         9202, 25084, 24440, 12675, 11839,    18,   837,  6578,   764,\n",
       "          569, 18354,  7496,   286,   262, 30193,   513,  1267,   837,\n",
       "         8811,  6412,   284,   355,   569, 18354,  7496, 17740,  6711,\n",
       "         2354,  2869,   837,   318,   257, 16106,  2597,  2488,    12,\n",
       "           31,  2712,  2008,   983,  4166,   416, 29490,   290,  6343,\n",
       "           13, 44206,   329,   262, 14047, 44685,   764, 28728,   287,\n",
       "         3269,  2813,   287,  2869,   837,   340,   318,   262,  2368,\n",
       "          983], dtype=uint16),\n",
       " array([50256, 50256,   796,  5199,   347,  2852,   353,   796,   220,\n",
       "          198, 50256, 50256,  5199,   347,  2852,   353,   318,   281,\n",
       "         3594,  2646,   837,  5581,   290, 21421,  8674,   764,   679,\n",
       "          550,   257,  8319,  2488,    12,    31, 20495,  2597,   319,\n",
       "          262,  5581,  2168,   383,  3941,   287,  4751,   764,   770,\n",
       "          373,  3940,   416,   257, 20495,  2597,   287,   262,   711,\n",
       "         2332,   684,  3194,   416, 11288, 37072,   837,   543,   373,\n",
       "         6157,   287,  5878,   379,   262,  8111,  3078, 15752,   764,\n",
       "          679,   550,   257,  8319,  2597,   287,   262,  5581,  2168,\n",
       "         8974,  1757,  1024,   276,   287,  6244,   764,   554,  5472,\n",
       "          347,  2852,   353, 11406,   257,  2597,   355,   366, 13854,\n",
       "          366], dtype=uint16),\n",
       " array([50256, 50256,   796,  8074, 20272,  9106,  3876,   385,   796,\n",
       "          220,   198, 50256, 50256,  8074, 20272,  9106,  3876,   385,\n",
       "          837,  1900,   355,   262,  3427, 43657,   393,  2219, 43657,\n",
       "          837,   318,   257,  4693,   286, 26573,   276, 43657,   422,\n",
       "          262, 10183, 10596, 10692,   837, 19517,  6896,   290,  3354,\n",
       "          286,   262,  2619,  6896,   764,   632,   318,  7173,  3519,\n",
       "          284,   262,  1605, 43657,   837,   367,    13, 45630, 41141,\n",
       "          764,   632,   743,  1663,   284,   257,  4129,   286,  3126,\n",
       "        12067,   357,  1987,   287,  1267,   290,   257,  2347,   286,\n",
       "          718, 37075,   357,  1511, 18360,  1267,   837,   290, 13062,\n",
       "          257, 39089,  5166,   286, 28421,   764,   554,  1204,   837,\n",
       "          262], dtype=uint16))"
      ]
     },
     "execution_count": 2,
     "metadata": {},
     "output_type": "execute_result"
    }
   ],
   "source": [
    "train_data[:100], test_data[:100], valid_data[:100]"
   ]
  },
  {
   "cell_type": "code",
   "execution_count": 3,
   "metadata": {},
   "outputs": [],
   "source": [
    "\n",
    "import sys\n",
    "sys.path.append(\"/n/projects/kc2819/projects/ChotaLLM\")\n",
    "\n",
    "from src.dataUtils import CustomDataset, CustomDataloader, customTokenizer\n",
    "\n",
    "batch_size = 5\n",
    "block_size = 32\n",
    "embedding_size = 12\n",
    "\n",
    "tokenizer = customTokenizer()"
   ]
  },
  {
   "cell_type": "code",
   "execution_count": 4,
   "metadata": {},
   "outputs": [
    {
     "name": "stdout",
     "output_type": "stream",
     "text": [
      "<|endoftext|><|endoftext|> = Valkyria Chronicles III = \n",
      "<|endoftext|><|endoftext|> Senjō no Valkyria 3 : Unrecorded Chronicles ( Japanese : 戦場のヴァルキュリア3 , lit . Valkyria of the Battlefield 3 ) , commonly referred to as Valkyria Chronicles III outside Japan , is a tactical role @-@ playing video game developed by Sega and Media.Vision for the PlayStation Portable . Released in January 2011 in Japan , it is the third game in the Valkyria series . Employing the same fusion of tactical and real @-@ time gameplay as its predecessors , the story runs parallel to the first game and follows the \" Nameless \" , a penal military unit serving the nation of Gallia during the Second Europan War who perform secret black operations and are pitted against the Imperial unit \" Calamaty Raven \" . \n",
      "<|endoftext|> The game began development in 2010 , carrying over a large portion of the work done on Valkyria Chronicles II . While it retained the standard features of the series , it also underwent multiple adjustments , such as making the game more forgiving for series newcomers . Character designer Raita Honjou and composer Hitoshi Sakimoto both returned from previous entries , along with Valkyria Chronicles II director Takeshi Ozawa . A large team of writers handled the script . The game 's opening theme was sung by May 'n . \n",
      "<|endoftext|> It met with positive sales in Japan , and was praised by both Japanese and western critics . After release , it received downloadable content , along with an expanded edition in November of that year . It was also adapted into manga and an original video animation series . Due to low sales of Valkyria Chronicles II , Valkyria Chronicles III was not localized , but a fan translation compatible with the game 's expanded edition was released in 2014 . Media.Vision would return to the franchise with the development of Valkyria : Azure Revolution for the PlayStation 4 . \n",
      "<|endoftext|><|endoftext|> = = Gameplay = = \n",
      "<|endoftext|><|endoftext|> As with previous Valkyira Chronicles games , Valkyria Chronicles III is a tactical role @-@ playing game where players take control of a military unit and take part in missions against enemy forces . Stories are told through comic book @-@ like panels with animated character portraits , with characters speaking partially through voiced speech bubbles and partially through unvoiced text . The player progresses through a series of linear missions , gradually unlocked as maps that can be freely scanned through and replayed as they are unlocked . The route to each story location on the map varies depending on an individual player 's approach : when one option is selected , the other is sealed off to the player . Outside missions , the player characters rest in a camp , where units can be customized and character growth occurs . Alongside the main story missions are character @-@ specific sub missions relating to different squad members . After the game 's completion , additional episodes are unlocked , some of them having a higher difficulty than those found in the rest of the game . There are also love simulation elements related to the game 's two main heroines , although they take a very minor role . \n",
      "<|endoftext|> The game 's battle system , the BliTZ system , is carried over directly from Valkyira Chronicles . During missions , players select each unit using a top @-@ down perspective of the battlefield map : once a character is selected , the player moves the character around the battlefield in third @-@ person . A character can only act once per @-@ turn , but characters can be granted multiple turns at the expense of other characters ' turns . Each character has a field and distance of movement limited by their Action Gauge . Up to nine characters can be assigned to a single mission . During gameplay , characters will call out if something happens to them , such as their health points ( HP ) getting low or being knocked out by enemy attacks . Each character has specific \" Potentials \" , skills unique to each character . They are divided into \" Personal Potential \" , which are innate skills that remain unaltered unless otherwise dictated by the story and can either help or impede a character , and \" Battle Potentials \" , which are grown throughout the game and always grant boons to a character . To learn Battle Potentials , each character has a unique \" Masters Table \" , a grid @-@ based skill table that can be used to acquire and link different skills . Characters also have Special Abilities that grant them temporary boosts on the battlefield : Kurt can activate \" Direct Command \" and move around the battlefield without depleting his Action Point gauge , the character Reila can shift into her \" Valkyria Form \" and become invincible , while Imca can target multiple enemy units with her heavy weapon . \n",
      "<|endoftext|> Troops are divided into five classes : Scouts , Shocktroopers , Engineers , Lancers and Armored Soldier . Troopers can switch classes by changing their assigned\n"
     ]
    }
   ],
   "source": [
    "seq = train_data[:1000]\n",
    "print(tokenizer.decode_np(seq))"
   ]
  },
  {
   "cell_type": "code",
   "execution_count": 5,
   "metadata": {},
   "outputs": [],
   "source": [
    "train_dataset = CustomDataset(trn_path, block_size= block_size)\n",
    "valid_dataset = CustomDataset(val_path, block_size= block_size)\n",
    "test_dataset = CustomDataset(tst_path, block_size= block_size)\n"
   ]
  },
  {
   "cell_type": "code",
   "execution_count": 6,
   "metadata": {},
   "outputs": [
    {
     "name": "stdout",
     "output_type": "stream",
     "text": [
      "75893 7845 8988\n",
      "train (tensor([50256, 50256,   796,   569, 18354,  7496, 17740,  6711,   796,   220,\n",
      "          198, 50256, 50256,  2311,    73, 13090,   645,   569, 18354,  7496,\n",
      "          513,  1058,   791, 47398, 17740,   357,  4960,  1058, 10545,   230,\n",
      "           99,   161]), tensor([50256,   796,   569, 18354,  7496, 17740,  6711,   796,   220,   198,\n",
      "        50256, 50256,  2311,    73, 13090,   645,   569, 18354,  7496,   513,\n",
      "         1058,   791, 47398, 17740,   357,  4960,  1058, 10545,   230,    99,\n",
      "          161,   254])) \n",
      " valid (tensor([50256, 50256,   796,  8074, 20272,  9106,  3876,   385,   796,   220,\n",
      "          198, 50256, 50256,  8074, 20272,  9106,  3876,   385,   837,  1900,\n",
      "          355,   262,  3427, 43657,   393,  2219, 43657,   837,   318,   257,\n",
      "         4693,   286]), tensor([50256,   796,  8074, 20272,  9106,  3876,   385,   796,   220,   198,\n",
      "        50256, 50256,  8074, 20272,  9106,  3876,   385,   837,  1900,   355,\n",
      "          262,  3427, 43657,   393,  2219, 43657,   837,   318,   257,  4693,\n",
      "          286, 26573])) \n",
      " test (tensor([50256, 50256,   796,  5199,   347,  2852,   353,   796,   220,   198,\n",
      "        50256, 50256,  5199,   347,  2852,   353,   318,   281,  3594,  2646,\n",
      "          837,  5581,   290, 21421,  8674,   764,   679,   550,   257,  8319,\n",
      "         2488,    12]), tensor([50256,   796,  5199,   347,  2852,   353,   796,   220,   198, 50256,\n",
      "        50256,  5199,   347,  2852,   353,   318,   281,  3594,  2646,   837,\n",
      "         5581,   290, 21421,  8674,   764,   679,   550,   257,  8319,  2488,\n",
      "           12,    31]))\n"
     ]
    }
   ],
   "source": [
    "print(len(train_dataset), len(valid_dataset), len(test_dataset))\n",
    "print(f'train', train_dataset[0],'\\n', f'valid', valid_dataset[0],'\\n', f'test', test_dataset[0])"
   ]
  },
  {
   "cell_type": "code",
   "execution_count": 22,
   "metadata": {},
   "outputs": [],
   "source": [
    "# lets test the dataloaders\n",
    "train_loader = CustomDataloader(train_dataset, batch_size=batch_size, shuffle=True)\n",
    "valid_loader = CustomDataloader(valid_dataset, batch_size=batch_size, shuffle=True)\n",
    "test_loader = CustomDataloader(test_dataset, batch_size=batch_size, shuffle=True)\n",
    "\n"
   ]
  },
  {
   "cell_type": "code",
   "execution_count": null,
   "metadata": {},
   "outputs": [],
   "source": []
  },
  {
   "cell_type": "code",
   "execution_count": 23,
   "metadata": {},
   "outputs": [
    {
     "data": {
      "text/plain": [
       "((tensor([[ 3066,   284,  2251,   734,   269, 40340,  6583,  2138,   621,   530,\n",
       "             764,   383,   406, 32270,   327, 40340,  1042,   837,  5292,   284,\n",
       "            3342, 14138,   287,  7743,   262,   797, 12214,  4562,   284,   511,\n",
       "           30663,   602],\n",
       "          [11043,   373,  9907, 10117,   357,  2808,   285,  1267,  1029,   837,\n",
       "             290, 19683,  3625,   357, 18395,   285,  1267,  6546,   379,   663,\n",
       "            2779,   837,   355, 29175,   621,   262,  1801,  2346,   764,   632,\n",
       "            7763, 22626],\n",
       "          [  373,  2716,   355,   262,  5062,   705,    82,  1218,  2060,   290,\n",
       "             360,  1789,   392,   271,   705,   717,  1688,  2650,   319,   352,\n",
       "            3945,  3050,   764,   632,  4251,  1271,  1105,   319,   262,  3482,\n",
       "            5573,   829],\n",
       "          [ 1649,   262, 39042,   373,  4721,   837,   340,   373,   262,   717,\n",
       "             287,   262,  1181,   286,  7055,   284,   779,   257,   311,  5105,\n",
       "              40,  5140,   379,   262, 12612, 45983,  2238,  8878,  8420,   764,\n",
       "            1439,   286],\n",
       "          [  286, 14915,   837,   543,   635,   468,   257,  1802,  2488,    12,\n",
       "              31, 10591,  2488,    12,    31,   583,  2488,    12,    31,  1711,\n",
       "            4219,   357, 13454, 10571,  1220,   289,  1267,   837,   550,  4721,\n",
       "             546,   257]]),\n",
       "  tensor([[  284,  2251,   734,   269, 40340,  6583,  2138,   621,   530,   764,\n",
       "             383,   406, 32270,   327, 40340,  1042,   837,  5292,   284,  3342,\n",
       "           14138,   287,  7743,   262,   797, 12214,  4562,   284,   511, 30663,\n",
       "             602,   764],\n",
       "          [  373,  9907, 10117,   357,  2808,   285,  1267,  1029,   837,   290,\n",
       "           19683,  3625,   357, 18395,   285,  1267,  6546,   379,   663,  2779,\n",
       "             837,   355, 29175,   621,   262,  1801,  2346,   764,   632,  7763,\n",
       "           22626,  2488],\n",
       "          [ 2716,   355,   262,  5062,   705,    82,  1218,  2060,   290,   360,\n",
       "            1789,   392,   271,   705,   717,  1688,  2650,   319,   352,  3945,\n",
       "            3050,   764,   632,  4251,  1271,  1105,   319,   262,  3482,  5573,\n",
       "             829, 22086],\n",
       "          [  262, 39042,   373,  4721,   837,   340,   373,   262,   717,   287,\n",
       "             262,  1181,   286,  7055,   284,   779,   257,   311,  5105,    40,\n",
       "            5140,   379,   262, 12612, 45983,  2238,  8878,  8420,   764,  1439,\n",
       "             286,   262],\n",
       "          [14915,   837,   543,   635,   468,   257,  1802,  2488,    12,    31,\n",
       "           10591,  2488,    12,    31,   583,  2488,    12,    31,  1711,  4219,\n",
       "             357, 13454, 10571,  1220,   289,  1267,   837,   550,  4721,   546,\n",
       "             257,  1227]])),\n",
       " (tensor([[ 1296,   286, 37137,   318,   416, 24522,   837, 11735, 10674, 47485,\n",
       "             837,   262,   393,  1352,   837, 44440,   262,  8598,   319,   257,\n",
       "             285,  2261, 22546,   422,   262,   471,    13,    50,    13,  1230,\n",
       "             764,   220],\n",
       "          [  764,   679,  1807,   428,  5874, 10600,  3681,   925,   262,  3496,\n",
       "            1282,  1336,  9197,   837,  2282,   837,   366,   843,   994,   340,\n",
       "             373,   837,  3016,  8208,   812,  1568,   837,  2406,   736,   284,\n",
       "            5478,   837],\n",
       "          [  878,   663,   717, 11162,   780,   286,  2159,  1810,   314,    13,\n",
       "             220,   198, 50256,  1881,  5398,  8295,  8025,   373, 42101,   832,\n",
       "             262, 15958,   355,   880,   764,   554, 14062,   837,   262,  2677,\n",
       "             705,    82],\n",
       "          [ 2959, 28814,   837,  3465,   326,   340,   373,  3170,   287,   262,\n",
       "            1588, 28830,   286,  7507, 17179,   418,   406,  4604, 21768,   290,\n",
       "             373,  3737,  5292,   284,  7351,   262, 11581,  3265,   287, 19955,\n",
       "            1661,   764],\n",
       "          [41928,   262,  7815,  6701,   290,  9014,   286,  1115,   269, 18463,\n",
       "             287,   307,  3055,   764,   220,   198, 50256,  1649,   262,  6193,\n",
       "            6596,   837,   670, 32400,  2354,   764,   383,  1451,  9197,   373,\n",
       "            4632, 12006]]),\n",
       "  tensor([[  286, 37137,   318,   416, 24522,   837, 11735, 10674, 47485,   837,\n",
       "             262,   393,  1352,   837, 44440,   262,  8598,   319,   257,   285,\n",
       "            2261, 22546,   422,   262,   471,    13,    50,    13,  1230,   764,\n",
       "             220,   198],\n",
       "          [  679,  1807,   428,  5874, 10600,  3681,   925,   262,  3496,  1282,\n",
       "            1336,  9197,   837,  2282,   837,   366,   843,   994,   340,   373,\n",
       "             837,  3016,  8208,   812,  1568,   837,  2406,   736,   284,  5478,\n",
       "             837,   477],\n",
       "          [  663,   717, 11162,   780,   286,  2159,  1810,   314,    13,   220,\n",
       "             198, 50256,  1881,  5398,  8295,  8025,   373, 42101,   832,   262,\n",
       "           15958,   355,   880,   764,   554, 14062,   837,   262,  2677,   705,\n",
       "              82,  4037],\n",
       "          [28814,   837,  3465,   326,   340,   373,  3170,   287,   262,  1588,\n",
       "           28830,   286,  7507, 17179,   418,   406,  4604, 21768,   290,   373,\n",
       "            3737,  5292,   284,  7351,   262, 11581,  3265,   287, 19955,  1661,\n",
       "             764,  7945],\n",
       "          [  262,  7815,  6701,   290,  9014,   286,  1115,   269, 18463,   287,\n",
       "             307,  3055,   764,   220,   198, 50256,  1649,   262,  6193,  6596,\n",
       "             837,   670, 32400,  2354,   764,   383,  1451,  9197,   373,  4632,\n",
       "           12006,   878]])),\n",
       " (tensor([[ 6116,   284, 16182,   764,   220,   198, 50256,  7831, 18485,  5093,\n",
       "             904,   287,   262,  6516,   286,   262,  1294,  4353,   400, 27749,\n",
       "             262,  2258, 25999,   547,   635,  4075,   764,  2293,   262,  2258,\n",
       "            6983, 19304],\n",
       "          [ 4141, 18837, 25967,   612,  1141,   262,  3394,  7511,  1810,   764,\n",
       "             220,   198, 50256, 50256,   796,   796,   796,  2517,   305,  2488,\n",
       "              12,    31, 27304,  8565,   796,   796,   796,   220,   198, 50256,\n",
       "           50256,   471],\n",
       "          [  373,  4075,   287, 14583,   262,  5582, 29479,   282,  3356,   837,\n",
       "             290,   373, 36777,   416,   663,  3554,  1168,   282,   805,  3059,\n",
       "             620,   353,  2488,    12,    31, 47974, 12753,   764,   220,   198,\n",
       "           50256,   383],\n",
       "          [  286,   262, 21199,  7229,   837,   617,   286,   543,   772, 35456,\n",
       "             284,  2031,   764, 22660, 30680,   290, 25776,  1083,  7334,   422,\n",
       "            2031,   290,  2258,  5478,   547,  1007,  1477,  3949,  2884,  5828,\n",
       "            3371, 31721],\n",
       "          [13472,   318,  2383,   287,   347,   600, 15712,   780,   286,  3744,\n",
       "            1693, 11500,   287,   262,  3240,   764,  4619,  4343,   837,   649,\n",
       "            5085,   423,  2067,  1811,  2809,  1436,  3006,   287,   347,   600,\n",
       "           15712,  2233]]),\n",
       "  tensor([[  284, 16182,   764,   220,   198, 50256,  7831, 18485,  5093,   904,\n",
       "             287,   262,  6516,   286,   262,  1294,  4353,   400, 27749,   262,\n",
       "            2258, 25999,   547,   635,  4075,   764,  2293,   262,  2258,  6983,\n",
       "           19304,  1141],\n",
       "          [18837, 25967,   612,  1141,   262,  3394,  7511,  1810,   764,   220,\n",
       "             198, 50256, 50256,   796,   796,   796,  2517,   305,  2488,    12,\n",
       "              31, 27304,  8565,   796,   796,   796,   220,   198, 50256, 50256,\n",
       "             471,    33],\n",
       "          [ 4075,   287, 14583,   262,  5582, 29479,   282,  3356,   837,   290,\n",
       "             373, 36777,   416,   663,  3554,  1168,   282,   805,  3059,   620,\n",
       "             353,  2488,    12,    31, 47974, 12753,   764,   220,   198, 50256,\n",
       "             383, 28862],\n",
       "          [  262, 21199,  7229,   837,   617,   286,   543,   772, 35456,   284,\n",
       "            2031,   764, 22660, 30680,   290, 25776,  1083,  7334,   422,  2031,\n",
       "             290,  2258,  5478,   547,  1007,  1477,  3949,  2884,  5828,  3371,\n",
       "           31721,   764],\n",
       "          [  318,  2383,   287,   347,   600, 15712,   780,   286,  3744,  1693,\n",
       "           11500,   287,   262,  3240,   764,  4619,  4343,   837,   649,  5085,\n",
       "             423,  2067,  1811,  2809,  1436,  3006,   287,   347,   600, 15712,\n",
       "            2233,   284]])))"
      ]
     },
     "execution_count": 23,
     "metadata": {},
     "output_type": "execute_result"
    }
   ],
   "source": [
    "next(iter(train_loader)), next(iter(valid_loader)), next(iter(test_loader))"
   ]
  },
  {
   "cell_type": "code",
   "execution_count": null,
   "metadata": {},
   "outputs": [],
   "source": []
  }
 ],
 "metadata": {
  "kernelspec": {
   "display_name": "Python 3 (ipykernel)",
   "language": "python",
   "name": "python3"
  },
  "language_info": {
   "codemirror_mode": {
    "name": "ipython",
    "version": 3
   },
   "file_extension": ".py",
   "mimetype": "text/x-python",
   "name": "python",
   "nbconvert_exporter": "python",
   "pygments_lexer": "ipython3",
   "version": "3.11.6"
  }
 },
 "nbformat": 4,
 "nbformat_minor": 2
}
